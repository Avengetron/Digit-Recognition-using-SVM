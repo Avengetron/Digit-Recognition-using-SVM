{
 "cells": [
  {
   "cell_type": "code",
   "execution_count": 1,
   "metadata": {},
   "outputs": [
    {
     "name": "stderr",
     "output_type": "stream",
     "text": [
      "C:\\Users\\asus\\AppData\\Local\\Continuum\\anaconda3\\lib\\site-packages\\ipykernel_launcher.py:16: DeprecationWarning: `imread` is deprecated!\n",
      "`imread` is deprecated in SciPy 1.0.0, and will be removed in 1.2.0.\n",
      "Use ``imageio.imread`` instead.\n",
      "  app.launch_new_instance()\n",
      "C:\\Users\\asus\\AppData\\Local\\Continuum\\anaconda3\\lib\\site-packages\\ipykernel_launcher.py:20: DeprecationWarning: `imresize` is deprecated!\n",
      "`imresize` is deprecated in SciPy 1.0.0, and will be removed in 1.3.0.\n",
      "Use Pillow instead: ``numpy.array(Image.fromarray(arr).resize())``.\n",
      "C:\\Users\\asus\\AppData\\Local\\Continuum\\anaconda3\\lib\\site-packages\\ipykernel_launcher.py:25: DeprecationWarning: `bytescale` is deprecated!\n",
      "`bytescale` is deprecated in SciPy 1.0.0, and will be removed in 1.2.0.\n"
     ]
    },
    {
     "data": {
      "text/plain": [
       "array([5])"
      ]
     },
     "execution_count": 1,
     "metadata": {},
     "output_type": "execute_result"
    }
   ],
   "source": [
    "import pandas as pd \n",
    "import numpy as np\n",
    "from sklearn import datasets  #loading different data sets from scikit-learn\n",
    "from sklearn.svm import SVC\n",
    "from scipy import misc\n",
    "\n",
    "\n",
    "mydata=datasets.load_digits()  #testing datasets of hand written digits.\n",
    "\n",
    "#machine learning model\n",
    "#classify the training data set using SVC of SVM\n",
    "X=mydata.data\n",
    "Y=mydata.target\n",
    "trainer=SVC(gamma=.00001)  #gamma defines the learning rate of the ML model\n",
    "lr=trainer.fit(X,Y)\n",
    "myimage=misc.imread(r\"C:\\Users\\asus\\Desktop\\DataSets-master\\55.png\")\n",
    "\n",
    "#Resizing....256*256......8*8.....\n",
    "#myimage_rs is resized image\n",
    "myimage_rs=misc.imresize(myimage,(8,8))\n",
    "\n",
    "#Int float (myimage(8)...float)\n",
    "myimage_rs_float=myimage_rs.astype(mydata.images.dtype)\n",
    "#Down scaling\n",
    "myimage_rs_float_scale=misc.bytescale(myimage_rs_float,high=16,low=0)  #byte scaler needs float value and \n",
    "                                                                        #then it convert it into integer value\n",
    "\n",
    "newimagescalefloat=myimage_rs_float_scale.astype(mydata.images.dtype)\n",
    "#converting each row and each pixle\n",
    "mylist=[]\n",
    "for i in newimagescalefloat:\n",
    "    for j in i:\n",
    "        mylist.append(sum(j)/3.0)\n",
    "len(mylist)\n",
    "\n",
    "my_testimage=np.array(mylist)\n",
    "\n",
    "mytestimage2d=my_testimage.reshape(1,len(my_testimage)) #mytestimage2d=[[my_testimage]]\n",
    "\n",
    "lr.predict(mytestimage2d)"
   ]
  },
  {
   "cell_type": "code",
   "execution_count": null,
   "metadata": {},
   "outputs": [],
   "source": []
  }
 ],
 "metadata": {
  "kernelspec": {
   "display_name": "Python 3",
   "language": "python",
   "name": "python3"
  },
  "language_info": {
   "codemirror_mode": {
    "name": "ipython",
    "version": 3
   },
   "file_extension": ".py",
   "mimetype": "text/x-python",
   "name": "python",
   "nbconvert_exporter": "python",
   "pygments_lexer": "ipython3",
   "version": "3.7.3"
  }
 },
 "nbformat": 4,
 "nbformat_minor": 2
}
